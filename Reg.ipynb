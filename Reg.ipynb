{
 "cells": [
  {
   "cell_type": "code",
   "execution_count": 2,
   "metadata": {},
   "outputs": [],
   "source": [
    "import pandas as pd\n",
    "from sklearn.model_selection import train_test_split\n",
    "from sklearn.preprocessing import StandardScaler, LabelEncoder, OneHotEncoder\n",
    "import pickle\n"
   ]
  },

  {
   "cell_type": "code",
   "execution_count": 3,
   "metadata": {},
   "outputs": [
    {
     "data": {
      "text/html": [
       "<div>\n",
       "<style scoped>\n",
       "    .dataframe tbody tr th:only-of-type {\n",
       "        vertical-align: middle;\n",
       "    }\n",
       "\n",
       "    .dataframe tbody tr th {\n",
       "        vertical-align: top;\n",
       "    }\n",
       "\n",
       "    .dataframe thead th {\n",
       "        text-align: right;\n",
       "    }\n",
       "</style>\n",
       "<table border=\"1\" class=\"dataframe\">\n",
       "  <thead>\n",
       "    <tr style=\"text-align: right;\">\n",
       "      <th></th>\n",
       "      <th>RowNumber</th>\n",
       "      <th>CustomerId</th>\n",
       "      <th>Surname</th>\n",
       "      <th>CreditScore</th>\n",
       "      <th>Geography</th>\n",
       "      <th>Gender</th>\n",
       "      <th>Age</th>\n",
       "      <th>Tenure</th>\n",
       "      <th>Balance</th>\n",
       "      <th>NumOfProducts</th>\n",
       "      <th>HasCrCard</th>\n",
       "      <th>IsActiveMember</th>\n",
       "      <th>EstimatedSalary</th>\n",
       "      <th>Exited</th>\n",
       "    </tr>\n",
       "  </thead>\n",
       "  <tbody>\n",
       "    <tr>\n",
       "      <th>0</th>\n",
       "      <td>1</td>\n",
       "      <td>15634602</td>\n",
       "      <td>Hargrave</td>\n",
       "      <td>619</td>\n",
       "      <td>France</td>\n",
       "      <td>Female</td>\n",
       "      <td>42</td>\n",
       "      <td>2</td>\n",
       "      <td>0.00</td>\n",
       "      <td>1</td>\n",
       "      <td>1</td>\n",
       "      <td>1</td>\n",
       "      <td>101348.88</td>\n",
       "      <td>1</td>\n",
       "    </tr>\n",
       "    <tr>\n",
       "      <th>1</th>\n",
       "      <td>2</td>\n",
       "      <td>15647311</td>\n",
       "      <td>Hill</td>\n",
       "      <td>608</td>\n",
       "      <td>Spain</td>\n",
       "      <td>Female</td>\n",
       "      <td>41</td>\n",
       "      <td>1</td>\n",
       "      <td>83807.86</td>\n",
       "      <td>1</td>\n",
       "      <td>0</td>\n",
       "      <td>1</td>\n",
       "      <td>112542.58</td>\n",
       "      <td>0</td>\n",
       "    </tr>\n",
       "    <tr>\n",
       "      <th>2</th>\n",
       "      <td>3</td>\n",
       "      <td>15619304</td>\n",
       "      <td>Onio</td>\n",
       "      <td>502</td>\n",
       "      <td>France</td>\n",
       "      <td>Female</td>\n",
       "      <td>42</td>\n",
       "      <td>8</td>\n",
       "      <td>159660.80</td>\n",
       "      <td>3</td>\n",
       "      <td>1</td>\n",
       "      <td>0</td>\n",
       "      <td>113931.57</td>\n",
       "      <td>1</td>\n",
       "    </tr>\n",
       "    <tr>\n",
       "      <th>3</th>\n",
       "      <td>4</td>\n",
       "      <td>15701354</td>\n",
       "      <td>Boni</td>\n",
       "      <td>699</td>\n",
       "      <td>France</td>\n",
       "      <td>Female</td>\n",
       "      <td>39</td>\n",
       "      <td>1</td>\n",
       "      <td>0.00</td>\n",
       "      <td>2</td>\n",
       "      <td>0</td>\n",
       "      <td>0</td>\n",
       "      <td>93826.63</td>\n",
       "      <td>0</td>\n",
       "    </tr>\n",
       "    <tr>\n",
       "      <th>4</th>\n",
       "      <td>5</td>\n",
       "      <td>15737888</td>\n",
       "      <td>Mitchell</td>\n",
       "      <td>850</td>\n",
       "      <td>Spain</td>\n",
       "      <td>Female</td>\n",
       "      <td>43</td>\n",
       "      <td>2</td>\n",
       "      <td>125510.82</td>\n",
       "      <td>1</td>\n",
       "      <td>1</td>\n",
       "      <td>1</td>\n",
       "      <td>79084.10</td>\n",
       "      <td>0</td>\n",
       "    </tr>\n",
       "  </tbody>\n",
       "</table>\n",
       "</div>"
      ],
      "text/plain": [
       "   RowNumber  CustomerId   Surname  ...  IsActiveMember EstimatedSalary Exited\n",
       "0          1    15634602  Hargrave  ...               1       101348.88      1\n",
       "1          2    15647311      Hill  ...               1       112542.58      0\n",
       "2          3    15619304      Onio  ...               0       113931.57      1\n",
       "3          4    15701354      Boni  ...               0        93826.63      0\n",
       "4          5    15737888  Mitchell  ...               1        79084.10      0\n",
       "\n",
       "[5 rows x 14 columns]"
      ]
     },
     "execution_count": 3,
     "metadata": {},
     "output_type": "execute_result"
    }
   ],
   "source": [
    "data=pd.read_csv(\"Churn_Modelling.csv\")\n",
    "data.head()"
   ]
  },
  {
   "cell_type": "code",
   "execution_count": 4,
   "metadata": {},
   "outputs": [],
   "source": [
    "data=data.drop(['RowNumber', 'CustomerId', 'Surname'],axis=1)"
   ]
  },

  {
   "cell_type": "code",
   "execution_count": 6,
   "metadata": {},
   "outputs": [],
   "source": [
    "label_gender=LabelEncoder()\n",
    "data['Gender']=label_gender.fit_transform(data['Gender'])"
   ]
  },
  {
   "cell_type": "code",
   "execution_count": 11,
   "metadata": {},
   "outputs": [],
   "source": [
    "label_geo=OneHotEncoder(handle_unknown='ignore')\n",
    "label_encode_geo=label_geo.fit_transform(data[['Geography']]).toarray()\n",
    "geo_encoded_df=pd.DataFrame(label_encode_geo,columns=label_geo.get_feature_names_out(['Geography']))"
   ]
  },
  {
   "cell_type": "code",
   "execution_count": 14,
   "metadata": {},
   "outputs": [],
   "source": [
    "data=pd.concat([data.drop('Geography',axis=1),geo_encoded_df],axis=1)"
   ]
  },

  {
   "cell_type": "code",
   "execution_count": 15,
   "metadata": {},
   "outputs": [
    {
     "data": {
      "text/html": [
       "<div>\n",
       "<style scoped>\n",
       "    .dataframe tbody tr th:only-of-type {\n",
       "        vertical-align: middle;\n",
       "    }\n",
       "\n",
       "    .dataframe tbody tr th {\n",
       "        vertical-align: top;\n",
       "    }\n",
       "\n",
       "    .dataframe thead th {\n",
       "        text-align: right;\n",
       "    }\n",
       "</style>\n",
       "<table border=\"1\" class=\"dataframe\">\n",
       "  <thead>\n",
       "    <tr style=\"text-align: right;\">\n",
       "      <th></th>\n",
       "      <th>CreditScore</th>\n",
       "      <th>Gender</th>\n",
       "      <th>Age</th>\n",
       "      <th>Tenure</th>\n",
       "      <th>Balance</th>\n",
       "      <th>NumOfProducts</th>\n",
       "      <th>HasCrCard</th>\n",
       "      <th>IsActiveMember</th>\n",
       "      <th>EstimatedSalary</th>\n",
       "      <th>Exited</th>\n",
       "      <th>Geography_France</th>\n",
       "      <th>Geography_Germany</th>\n",
       "      <th>Geography_Spain</th>\n",
       "    </tr>\n",
       "  </thead>\n",
       "  <tbody>\n",
       "    <tr>\n",
       "      <th>0</th>\n",
       "      <td>619</td>\n",
       "      <td>0</td>\n",
       "      <td>42</td>\n",
       "      <td>2</td>\n",
       "      <td>0.00</td>\n",
       "      <td>1</td>\n",
       "      <td>1</td>\n",
       "      <td>1</td>\n",
       "      <td>101348.88</td>\n",
       "      <td>1</td>\n",
       "      <td>1.0</td>\n",
       "      <td>0.0</td>\n",
       "      <td>0.0</td>\n",
       "    </tr>\n",
       "    <tr>\n",
       "      <th>1</th>\n",
       "      <td>608</td>\n",
       "      <td>0</td>\n",
       "      <td>41</td>\n",
       "      <td>1</td>\n",
       "      <td>83807.86</td>\n",
       "      <td>1</td>\n",
       "      <td>0</td>\n",
       "      <td>1</td>\n",
       "      <td>112542.58</td>\n",
       "      <td>0</td>\n",
       "      <td>0.0</td>\n",
       "      <td>0.0</td>\n",
       "      <td>1.0</td>\n",
       "    </tr>\n",
       "    <tr>\n",
       "      <th>2</th>\n",
       "      <td>502</td>\n",
       "      <td>0</td>\n",
       "      <td>42</td>\n",
       "      <td>8</td>\n",
       "      <td>159660.80</td>\n",
       "      <td>3</td>\n",
       "      <td>1</td>\n",
       "      <td>0</td>\n",
       "      <td>113931.57</td>\n",
       "      <td>1</td>\n",
       "      <td>1.0</td>\n",
       "      <td>0.0</td>\n",
       "      <td>0.0</td>\n",
       "    </tr>\n",
       "    <tr>\n",
       "      <th>3</th>\n",
       "      <td>699</td>\n",
       "      <td>0</td>\n",
       "      <td>39</td>\n",
       "      <td>1</td>\n",
       "      <td>0.00</td>\n",
       "      <td>2</td>\n",
       "      <td>0</td>\n",
       "      <td>0</td>\n",
       "      <td>93826.63</td>\n",
       "      <td>0</td>\n",
       "      <td>1.0</td>\n",
       "      <td>0.0</td>\n",
       "      <td>0.0</td>\n",
       "    </tr>\n",
       "    <tr>\n",
       "      <th>4</th>\n",
       "      <td>850</td>\n",
       "      <td>0</td>\n",
       "      <td>43</td>\n",
       "      <td>2</td>\n",
       "      <td>125510.82</td>\n",
       "      <td>1</td>\n",
       "      <td>1</td>\n",
       "      <td>1</td>\n",
       "      <td>79084.10</td>\n",
       "      <td>0</td>\n",
       "      <td>0.0</td>\n",
       "      <td>0.0</td>\n",
       "      <td>1.0</td>\n",
       "    </tr>\n",
       "  </tbody>\n",
       "</table>\n",
       "</div>"
      ],
      "text/plain": [
       "   CreditScore  Gender  ...  Geography_Germany  Geography_Spain\n",
       "0          619       0  ...                0.0              0.0\n",
       "1          608       0  ...                0.0              1.0\n",
       "2          502       0  ...                0.0              0.0\n",
       "3          699       0  ...                0.0              0.0\n",
       "4          850       0  ...                0.0              1.0\n",
       "\n",
       "[5 rows x 13 columns]"
      ]
     },
     "execution_count": 15,
     "metadata": {},
     "output_type": "execute_result"
    }
   ],
   "source": [
    "data.head()"
   ]
  },
  {
   "cell_type": "code",
   "execution_count": 16,
   "metadata": {},
   "outputs": [],
   "source": [
    "X=data.drop(\"EstimatedSalary\",axis=1)\n",
    "y=data['EstimatedSalary']"
   ]
  },
  {
   "cell_type": "code",
   "execution_count": 17,
   "metadata": {},
   "outputs": [],
   "source": [
    "X_train,X_test,y_train,y_test=train_test_split(X,y,test_size=0.2,random_state=21)"
   ]
  },
  {
   "cell_type": "code",
   "execution_count": 18,
   "metadata": {},
   "outputs": [],
   "source": [
    "scaler=StandardScaler()\n",
    "X_train=scaler.fit_transform(X_train)\n",
    "X_test=scaler.transform(X_test)"
   ]
  },
  {
   "cell_type": "code",
   "execution_count": 19,
   "metadata": {},
   "outputs": [],
   "source": [
    "with open('label_gender.pkl','wb') as file:\n",
    "    pickle.dump(label_gender,file)\n",
    "with open('label_geo.pkl','wb') as file:\n",
    "    pickle.dump(label_geo,file)\n",
    "with open('scaler1.pkl','wb') as file:\n",
    "    pickle.dump(scaler,file)"
   ]
  },
  {
   "cell_type": "markdown",
   "metadata": {},
   "source": [
    "## ANN regression problem statement"
   ]
  },
  {
   "cell_type": "markdown",
   "metadata": {},
   "source": []
  },
  {
   "cell_type": "code",
   "execution_count": 21,
   "metadata": {},
   "outputs": [],
   "source": [
    "import tensorflow as tf\n",
    "from tensorflow.keras.models import Sequential\n",
    "from tensorflow.keras.layers import Dense"
   ]
  },
  {
   "cell_type": "code",
   "execution_count": 24,
   "metadata": {},
   "outputs": [
    {
     "name": "stdout",
     "output_type": "stream",
     "text": [
      "WARNING:tensorflow:From c:\\Users\\akhil.goud.bathini\\Desktop\\GenAI\\Projects\\AnnCls\\Lib\\site-packages\\keras\\src\\optimizers\\__init__.py:309: The name tf.train.Optimizer is deprecated. Please use tf.compat.v1.train.Optimizer instead.\n",
      "\n",
      "Model: \"sequential\"\n",
      "_________________________________________________________________\n",
      " Layer (type)                Output Shape              Param #   \n",
      "=================================================================\n",
      " dense_3 (Dense)             (None, 64)                832       \n",
      "                                                                 \n",
      " dense_4 (Dense)             (None, 32)                2080      \n",
      "                                                                 \n",
      " dense_5 (Dense)             (None, 1)                 33        \n",
      "                                                                 \n",
      "=================================================================\n",
      "Total params: 2945 (11.50 KB)\n",
      "Trainable params: 2945 (11.50 KB)\n",
      "Non-trainable params: 0 (0.00 Byte)\n",
      "_________________________________________________________________\n"
     ]
    }
   ],
   "source": [
    "model1=Sequential([\n",
    "    Dense(64, activation='relu',input_shape=(X_train.shape[1],)),\n",
    "    Dense(32,activation='relu'),\n",
    "    Dense(1)\n",
    "])\n",
    "model1.compile(optimizer='adam',loss='mean_absolute_error',metrics=['mae'])\n",
    "model1.summary()"
   ]
  },
  {
   "cell_type": "code",
   "execution_count": 27,
   "metadata": {},
   "outputs": [],
   "source": [
    "## setup the tensorboard\n",
    "import datetime\n",
    "from tensorflow.keras.callbacks import EarlyStopping, TensorBoard\n",
    "log_dir=\"logs1/fit/\" + datetime.datetime.now().strftime(\"%Y%m%d-%H%M%S\")\n",
    "tensorflow_callback=TensorBoard(log_dir=log_dir,histogram_freq=1)"
   ]
  },
  {
   "cell_type": "code",
   "execution_count": 28,
   "metadata": {},
   "outputs": [],
   "source": [
    "early_stopping_callback=EarlyStopping(monitor='val_loss',patience=10,restore_best_weights=True)"
   ]
  },
  {
   "cell_type": "code",
   "execution_count": 29,
   "metadata": {},
   "outputs": [
    {
     "name": "stdout",
     "output_type": "stream",
     "text": [
      "Epoch 1/100\n",
      "WARNING:tensorflow:From c:\\Users\\akhil.goud.bathini\\Desktop\\GenAI\\Projects\\AnnCls\\Lib\\site-packages\\keras\\src\\utils\\tf_utils.py:492: The name tf.ragged.RaggedTensorValue is deprecated. Please use tf.compat.v1.ragged.RaggedTensorValue instead.\n",
      "\n",
      "WARNING:tensorflow:From c:\\Users\\akhil.goud.bathini\\Desktop\\GenAI\\Projects\\AnnCls\\Lib\\site-packages\\keras\\src\\engine\\base_layer_utils.py:384: The name tf.executing_eagerly_outside_functions is deprecated. Please use tf.compat.v1.executing_eagerly_outside_functions instead.\n",
      "\n",
      "250/250 [==============================] - 2s 4ms/step - loss: 99900.9766 - mae: 99900.9766 - val_loss: 100465.7188 - val_mae: 100465.7188\n",
      "Epoch 2/100\n",
      "250/250 [==============================] - 1s 3ms/step - loss: 99199.3984 - mae: 99199.3984 - val_loss: 99023.6172 - val_mae: 99023.6172\n",
      "Epoch 3/100\n",
      "250/250 [==============================] - 1s 3ms/step - loss: 96664.2656 - mae: 96664.2656 - val_loss: 95291.7109 - val_mae: 95291.7109\n",
      "Epoch 4/100\n",
      "250/250 [==============================] - 1s 3ms/step - loss: 91624.4375 - mae: 91624.4375 - val_loss: 89072.7578 - val_mae: 89072.7578\n",
      "Epoch 5/100\n",
      "250/250 [==============================] - 1s 3ms/step - loss: 84251.6484 - mae: 84251.6484 - val_loss: 80847.3906 - val_mae: 80847.3906\n",
      "Epoch 6/100\n",
      "250/250 [==============================] - 1s 3ms/step - loss: 75428.3750 - mae: 75428.3750 - val_loss: 72038.6562 - val_mae: 72038.6562\n",
      "Epoch 7/100\n",
      "250/250 [==============================] - 1s 4ms/step - loss: 66783.5859 - mae: 66783.5859 - val_loss: 64037.1758 - val_mae: 64037.1758\n",
      "Epoch 8/100\n",
      "250/250 [==============================] - 1s 4ms/step - loss: 59716.5781 - mae: 59716.5781 - val_loss: 57853.6133 - val_mae: 57853.6133\n",
      "Epoch 9/100\n",
      "250/250 [==============================] - 2s 7ms/step - loss: 54943.8164 - mae: 54943.8164 - val_loss: 54051.0391 - val_mae: 54051.0391\n",
      "Epoch 10/100\n",
      "250/250 [==============================] - 1s 5ms/step - loss: 52289.6797 - mae: 52289.6797 - val_loss: 52085.8711 - val_mae: 52085.8711\n",
      "Epoch 11/100\n",
      "250/250 [==============================] - 1s 6ms/step - loss: 51085.9336 - mae: 51085.9336 - val_loss: 51223.9727 - val_mae: 51223.9727\n",
      "Epoch 12/100\n",
      "250/250 [==============================] - 2s 7ms/step - loss: 50612.8125 - mae: 50612.8125 - val_loss: 50808.9648 - val_mae: 50808.9648\n",
      "Epoch 13/100\n",
      "250/250 [==============================] - 2s 8ms/step - loss: 50407.6445 - mae: 50407.6445 - val_loss: 50577.7773 - val_mae: 50577.7773\n",
      "Epoch 14/100\n",
      "250/250 [==============================] - 2s 7ms/step - loss: 50294.5469 - mae: 50294.5469 - val_loss: 50431.5664 - val_mae: 50431.5664\n",
      "Epoch 15/100\n",
      "250/250 [==============================] - 2s 7ms/step - loss: 50224.3281 - mae: 50224.3281 - val_loss: 50343.8516 - val_mae: 50343.8516\n",
      "Epoch 16/100\n",
      "250/250 [==============================] - 1s 6ms/step - loss: 50168.6875 - mae: 50168.6875 - val_loss: 50262.8672 - val_mae: 50262.8672\n",
      "Epoch 17/100\n",
      "250/250 [==============================] - 2s 8ms/step - loss: 50123.5352 - mae: 50123.5352 - val_loss: 50219.8398 - val_mae: 50219.8398\n",
      "Epoch 18/100\n",
      "250/250 [==============================] - 2s 7ms/step - loss: 50084.3516 - mae: 50084.3516 - val_loss: 50172.7852 - val_mae: 50172.7852\n",
      "Epoch 19/100\n",
      "250/250 [==============================] - 2s 6ms/step - loss: 50046.8750 - mae: 50046.8750 - val_loss: 50136.2383 - val_mae: 50136.2383\n",
      "Epoch 20/100\n",
      "250/250 [==============================] - 2s 7ms/step - loss: 50015.1406 - mae: 50015.1406 - val_loss: 50102.8047 - val_mae: 50102.8047\n",
      "Epoch 21/100\n",
      "250/250 [==============================] - 1s 6ms/step - loss: 49986.0430 - mae: 49986.0430 - val_loss: 50061.3359 - val_mae: 50061.3359\n",
      "Epoch 22/100\n",
      "250/250 [==============================] - 1s 6ms/step - loss: 49955.3789 - mae: 49955.3789 - val_loss: 50035.1328 - val_mae: 50035.1328\n",
      "Epoch 23/100\n",
      "250/250 [==============================] - 1s 6ms/step - loss: 49930.0625 - mae: 49930.0625 - val_loss: 50006.1250 - val_mae: 50006.1250\n",
      "Epoch 24/100\n",
      "250/250 [==============================] - 1s 5ms/step - loss: 49906.7930 - mae: 49906.7930 - val_loss: 49992.9570 - val_mae: 49992.9570\n",
      "Epoch 25/100\n",
      "250/250 [==============================] - 2s 7ms/step - loss: 49883.4453 - mae: 49883.4453 - val_loss: 49973.4883 - val_mae: 49973.4883\n",
      "Epoch 26/100\n",
      "250/250 [==============================] - 2s 9ms/step - loss: 49866.5273 - mae: 49866.5273 - val_loss: 49959.1445 - val_mae: 49959.1445\n",
      "Epoch 27/100\n",
      "250/250 [==============================] - 2s 7ms/step - loss: 49846.2344 - mae: 49846.2344 - val_loss: 49947.3008 - val_mae: 49947.3008\n",
      "Epoch 28/100\n",
      "250/250 [==============================] - 3s 11ms/step - loss: 49831.2930 - mae: 49831.2930 - val_loss: 49940.7305 - val_mae: 49940.7305\n",
      "Epoch 29/100\n",
      "250/250 [==============================] - 2s 8ms/step - loss: 49813.1133 - mae: 49813.1133 - val_loss: 49929.8477 - val_mae: 49929.8477\n",
      "Epoch 30/100\n",
      "250/250 [==============================] - 1s 4ms/step - loss: 49802.2617 - mae: 49802.2617 - val_loss: 49924.6562 - val_mae: 49924.6562\n",
      "Epoch 31/100\n",
      "250/250 [==============================] - 1s 4ms/step - loss: 49784.8516 - mae: 49784.8516 - val_loss: 49919.2109 - val_mae: 49919.2109\n",
      "Epoch 32/100\n",
      "250/250 [==============================] - 1s 5ms/step - loss: 49769.2930 - mae: 49769.2930 - val_loss: 49905.2031 - val_mae: 49905.2031\n",
      "Epoch 33/100\n",
      "250/250 [==============================] - 2s 8ms/step - loss: 49758.7070 - mae: 49758.7070 - val_loss: 49908.3203 - val_mae: 49908.3203\n",
      "Epoch 34/100\n",
      "250/250 [==============================] - 2s 9ms/step - loss: 49746.2891 - mae: 49746.2891 - val_loss: 49902.0898 - val_mae: 49902.0898\n",
      "Epoch 35/100\n",
      "250/250 [==============================] - 2s 8ms/step - loss: 49734.3008 - mae: 49734.3008 - val_loss: 49899.4375 - val_mae: 49899.4375\n",
      "Epoch 36/100\n",
      "250/250 [==============================] - 1s 6ms/step - loss: 49722.6914 - mae: 49722.6914 - val_loss: 49899.5508 - val_mae: 49899.5508\n",
      "Epoch 37/100\n",
      "250/250 [==============================] - 1s 6ms/step - loss: 49713.5781 - mae: 49713.5781 - val_loss: 49896.5781 - val_mae: 49896.5781\n",
      "Epoch 38/100\n",
      "250/250 [==============================] - 2s 7ms/step - loss: 49702.0430 - mae: 49702.0430 - val_loss: 49899.7266 - val_mae: 49899.7266\n",
      "Epoch 39/100\n",
      "250/250 [==============================] - 2s 6ms/step - loss: 49695.8477 - mae: 49695.8477 - val_loss: 49889.5898 - val_mae: 49889.5898\n",
      "Epoch 40/100\n",
      "250/250 [==============================] - 2s 7ms/step - loss: 49683.1719 - mae: 49683.1719 - val_loss: 49890.8789 - val_mae: 49890.8789\n",
      "Epoch 41/100\n",
      "250/250 [==============================] - 2s 7ms/step - loss: 49673.6680 - mae: 49673.6680 - val_loss: 49888.5234 - val_mae: 49888.5234\n",
      "Epoch 42/100\n",
      "250/250 [==============================] - 2s 9ms/step - loss: 49667.4922 - mae: 49667.4922 - val_loss: 49895.5039 - val_mae: 49895.5039\n",
      "Epoch 43/100\n",
      "250/250 [==============================] - 2s 6ms/step - loss: 49659.7578 - mae: 49659.7578 - val_loss: 49885.4648 - val_mae: 49885.4648\n",
      "Epoch 44/100\n",
      "250/250 [==============================] - 1s 4ms/step - loss: 49650.6289 - mae: 49650.6289 - val_loss: 49879.8242 - val_mae: 49879.8242\n",
      "Epoch 45/100\n",
      "250/250 [==============================] - 1s 4ms/step - loss: 49644.1914 - mae: 49644.1914 - val_loss: 49880.7422 - val_mae: 49880.7422\n",
      "Epoch 46/100\n",
      "250/250 [==============================] - 1s 3ms/step - loss: 49633.2227 - mae: 49633.2227 - val_loss: 49878.7227 - val_mae: 49878.7227\n",
      "Epoch 47/100\n",
      "250/250 [==============================] - 1s 3ms/step - loss: 49628.2656 - mae: 49628.2656 - val_loss: 49883.9219 - val_mae: 49883.9219\n",
      "Epoch 48/100\n",
      "250/250 [==============================] - 1s 3ms/step - loss: 49621.8867 - mae: 49621.8867 - val_loss: 49876.4570 - val_mae: 49876.4570\n",
      "Epoch 49/100\n",
      "250/250 [==============================] - 1s 4ms/step - loss: 49614.4023 - mae: 49614.4023 - val_loss: 49877.3125 - val_mae: 49877.3125\n",
      "Epoch 50/100\n",
      "250/250 [==============================] - 1s 3ms/step - loss: 49605.5312 - mae: 49605.5312 - val_loss: 49873.5039 - val_mae: 49873.5039\n",
      "Epoch 51/100\n",
      "250/250 [==============================] - 1s 3ms/step - loss: 49601.8477 - mae: 49601.8477 - val_loss: 49874.0664 - val_mae: 49874.0664\n",
      "Epoch 52/100\n",
      "250/250 [==============================] - 1s 3ms/step - loss: 49593.2617 - mae: 49593.2617 - val_loss: 49868.5234 - val_mae: 49868.5234\n",
      "Epoch 53/100\n",
      "250/250 [==============================] - 1s 3ms/step - loss: 49589.2148 - mae: 49589.2148 - val_loss: 49861.8242 - val_mae: 49861.8242\n",
      "Epoch 54/100\n",
      "250/250 [==============================] - 1s 3ms/step - loss: 49585.0391 - mae: 49585.0391 - val_loss: 49859.0938 - val_mae: 49859.0938\n",
      "Epoch 55/100\n",
      "250/250 [==============================] - 1s 3ms/step - loss: 49578.7695 - mae: 49578.7695 - val_loss: 49849.3789 - val_mae: 49849.3789\n",
      "Epoch 56/100\n",
      "250/250 [==============================] - 1s 3ms/step - loss: 49574.8594 - mae: 49574.8594 - val_loss: 49848.8672 - val_mae: 49848.8672\n",
      "Epoch 57/100\n",
      "250/250 [==============================] - 1s 3ms/step - loss: 49565.0039 - mae: 49565.0039 - val_loss: 49858.4883 - val_mae: 49858.4883\n",
      "Epoch 58/100\n",
      "250/250 [==============================] - 1s 3ms/step - loss: 49562.8984 - mae: 49562.8984 - val_loss: 49857.6992 - val_mae: 49857.6992\n",
      "Epoch 59/100\n",
      "250/250 [==============================] - 1s 3ms/step - loss: 49559.0117 - mae: 49559.0117 - val_loss: 49861.8164 - val_mae: 49861.8164\n",
      "Epoch 60/100\n",
      "250/250 [==============================] - 1s 3ms/step - loss: 49553.6758 - mae: 49553.6758 - val_loss: 49868.4805 - val_mae: 49868.4805\n",
      "Epoch 61/100\n",
      "250/250 [==============================] - 1s 3ms/step - loss: 49546.4766 - mae: 49546.4766 - val_loss: 49859.5664 - val_mae: 49859.5664\n",
      "Epoch 62/100\n",
      "250/250 [==============================] - 1s 3ms/step - loss: 49543.3320 - mae: 49543.3320 - val_loss: 49859.9141 - val_mae: 49859.9141\n",
      "Epoch 63/100\n",
      "250/250 [==============================] - 1s 3ms/step - loss: 49542.2344 - mae: 49542.2344 - val_loss: 49848.8125 - val_mae: 49848.8125\n",
      "Epoch 64/100\n",
      "250/250 [==============================] - 1s 3ms/step - loss: 49536.1797 - mae: 49536.1797 - val_loss: 49850.6602 - val_mae: 49850.6602\n",
      "Epoch 65/100\n",
      "250/250 [==============================] - 1s 3ms/step - loss: 49533.1250 - mae: 49533.1250 - val_loss: 49853.1250 - val_mae: 49853.1250\n",
      "Epoch 66/100\n",
      "250/250 [==============================] - 1s 3ms/step - loss: 49528.1211 - mae: 49528.1211 - val_loss: 49860.5938 - val_mae: 49860.5938\n",
      "Epoch 67/100\n",
      "250/250 [==============================] - 1s 3ms/step - loss: 49524.5430 - mae: 49524.5430 - val_loss: 49858.7031 - val_mae: 49858.7031\n",
      "Epoch 68/100\n",
      "250/250 [==============================] - 1s 4ms/step - loss: 49519.5898 - mae: 49519.5898 - val_loss: 49852.3828 - val_mae: 49852.3828\n",
      "Epoch 69/100\n",
      "250/250 [==============================] - 1s 4ms/step - loss: 49516.3164 - mae: 49516.3164 - val_loss: 49856.1250 - val_mae: 49856.1250\n",
      "Epoch 70/100\n",
      "250/250 [==============================] - 1s 4ms/step - loss: 49513.4375 - mae: 49513.4375 - val_loss: 49849.3750 - val_mae: 49849.3750\n",
      "Epoch 71/100\n",
      "250/250 [==============================] - 1s 3ms/step - loss: 49514.0312 - mae: 49514.0312 - val_loss: 49840.6602 - val_mae: 49840.6602\n",
      "Epoch 72/100\n",
      "250/250 [==============================] - 1s 3ms/step - loss: 49506.1055 - mae: 49506.1055 - val_loss: 49846.5312 - val_mae: 49846.5312\n",
      "Epoch 73/100\n",
      "250/250 [==============================] - 1s 4ms/step - loss: 49505.1562 - mae: 49505.1562 - val_loss: 49843.9805 - val_mae: 49843.9805\n",
      "Epoch 74/100\n",
      "250/250 [==============================] - 1s 3ms/step - loss: 49501.1602 - mae: 49501.1602 - val_loss: 49849.2305 - val_mae: 49849.2305\n",
      "Epoch 75/100\n",
      "250/250 [==============================] - 1s 3ms/step - loss: 49496.6680 - mae: 49496.6680 - val_loss: 49839.7188 - val_mae: 49839.7188\n",
      "Epoch 76/100\n",
      "250/250 [==============================] - 1s 3ms/step - loss: 49494.1055 - mae: 49494.1055 - val_loss: 49843.4961 - val_mae: 49843.4961\n",
      "Epoch 77/100\n",
      "250/250 [==============================] - 1s 3ms/step - loss: 49491.4453 - mae: 49491.4453 - val_loss: 49844.2578 - val_mae: 49844.2578\n",
      "Epoch 78/100\n",
      "250/250 [==============================] - 1s 3ms/step - loss: 49487.6914 - mae: 49487.6914 - val_loss: 49850.7891 - val_mae: 49850.7891\n",
      "Epoch 79/100\n",
      "250/250 [==============================] - 1s 3ms/step - loss: 49486.5391 - mae: 49486.5391 - val_loss: 49853.9844 - val_mae: 49853.9844\n",
      "Epoch 80/100\n",
      "250/250 [==============================] - 1s 3ms/step - loss: 49485.5742 - mae: 49485.5742 - val_loss: 49841.3281 - val_mae: 49841.3281\n",
      "Epoch 81/100\n",
      "250/250 [==============================] - 1s 3ms/step - loss: 49481.4414 - mae: 49481.4414 - val_loss: 49843.5195 - val_mae: 49843.5195\n",
      "Epoch 82/100\n",
      "250/250 [==============================] - 1s 3ms/step - loss: 49476.5781 - mae: 49476.5781 - val_loss: 49845.1875 - val_mae: 49845.1875\n",
      "Epoch 83/100\n",
      "250/250 [==============================] - 1s 3ms/step - loss: 49474.7578 - mae: 49474.7578 - val_loss: 49853.2852 - val_mae: 49853.2852\n",
      "Epoch 84/100\n",
      "250/250 [==============================] - 1s 3ms/step - loss: 49472.4219 - mae: 49472.4219 - val_loss: 49843.8711 - val_mae: 49843.8711\n",
      "Epoch 85/100\n",
      "250/250 [==============================] - 1s 2ms/step - loss: 49469.1562 - mae: 49469.1562 - val_loss: 49846.0234 - val_mae: 49846.0234\n"
     ]
    }
   ],
   "source": [
    "# Training the model\n",
    "history=model1.fit(\n",
    "    X_train,y_train,validation_data=(X_test,y_test),epochs=100,\n",
    "    callbacks=[tensorflow_callback,early_stopping_callback]\n",
    "    )\n",
    "                   "
   ]
  },
  {
   "cell_type": "code",
   "execution_count": 30,
   "metadata": {},
   "outputs": [],
   "source": [
    "%load_ext tensorboard"
   ]
  },
  {
   "cell_type": "code",
   "execution_count": 32,
   "metadata": {},
   "outputs": [
    {
     "data": {
      "text/html": [
       "\n",
       "      <iframe id=\"tensorboard-frame-48b1416166877f49\" width=\"100%\" height=\"800\" frameborder=\"0\">\n",
       "      </iframe>\n",
       "      <script>\n",
       "        (function() {\n",
       "          const frame = document.getElementById(\"tensorboard-frame-48b1416166877f49\");\n",
       "          const url = new URL(\"/\", window.location);\n",
       "          const port = 6006;\n",
       "          if (port) {\n",
       "            url.port = port;\n",
       "          }\n",
       "          frame.src = url;\n",
       "        })();\n",
       "      </script>\n",
       "    "
      ],
      "text/plain": [
       "<IPython.core.display.HTML object>"
      ]
     },
     "metadata": {},
     "output_type": "display_data"
    }
   ],
   "source": [
    "%tensorboard --logdir logs1/fit"
   ]
  },
  {
   "cell_type": "code",
   "execution_count": 33,
   "metadata": {},
   "outputs": [
    {
     "name": "stdout",
     "output_type": "stream",
     "text": [
      "63/63 [==============================] - 0s 2ms/step - loss: 49839.7188 - mae: 49839.7188\n"
     ]
    }
   ],
   "source": [
    "## evaluate the model\n",
    "test_loss,test_mae=model1.evaluate(X_test,y_test)"
   ]
  },

  {
   "cell_type": "code",
   "execution_count": 34,
   "metadata": {},
   "outputs": [
    {
     "name": "stderr",
     "output_type": "stream",
     "text": [
      "c:\\Users\\akhil.goud.bathini\\Desktop\\GenAI\\Projects\\AnnCls\\Lib\\site-packages\\keras\\src\\engine\\training.py:3103: UserWarning: You are saving your model as an HDF5 file via `model.save()`. This file format is considered legacy. We recommend using instead the native Keras format, e.g. `model.save('my_model.keras')`.\n",
      "  saving_api.save_model(\n"
     ]
    }
   ],
   "source": [
    "model1.save('regressionModel.h5')"
   ]
  },
  {
   "cell_type": "code",
   "execution_count": null,
   "metadata": {},
   "outputs": [],
   "source": []
  }
 ],
 "metadata": {
  "kernelspec": {
   "display_name": "Python 3",
   "language": "python",
   "name": "python3"
  },
  "language_info": {
   "codemirror_mode": {
    "name": "ipython",
    "version": 3
   },
   "file_extension": ".py",
   "mimetype": "text/x-python",
   "name": "python",
   "nbconvert_exporter": "python",
   "pygments_lexer": "ipython3",
   "version": "3.11.0"
  }
 },
 "nbformat": 4,
 "nbformat_minor": 2
}
